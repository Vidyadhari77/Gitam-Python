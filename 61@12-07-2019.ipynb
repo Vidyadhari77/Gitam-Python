{
 "cells": [
  {
   "cell_type": "markdown",
   "metadata": {},
   "source": [
    "## REGULAR EXPRESSION\n",
    "    - pattern matching\n",
    "    - patterns(re) package\n",
    "    - [0-9]--->any digit matching\n",
    "    - -->two digit number {2}\n",
    "    - ^ -->start of regular number\n",
    "    - {} -->no.of repetations\n",
    "    - $ -->end of regular expression\n",
    "    - [] -->pattern matching"
   ]
  },
  {
   "cell_type": "code",
   "execution_count": 2,
   "metadata": {},
   "outputs": [
    {
     "name": "stdout",
     "output_type": "stream",
     "text": [
      "True\n",
      "False\n"
     ]
    }
   ],
   "source": [
    "#function to test two digit number matching\n",
    "import re\n",
    "def twoDigitMatching(n):\n",
    "    pattern = '^[0-9]{2}$'\n",
    "    n=str(n)\n",
    "    if re.match(pattern,n):\n",
    "        return True\n",
    "    return False\n",
    "print(twoDigitMatching(12))#True\n",
    "print(twoDigitMatching(123))#False\n",
    "    "
   ]
  },
  {
   "cell_type": "markdown",
   "metadata": {},
   "source": [
    "## REGULAR EXPRESSION FOR CHARACTERS\n",
    "    - [A-Z]: upper case characters\n",
    "    - [a-z]: lowr case characters\n",
    "    - ^[a-zA-Z]{8}$ --> accept 8 characters can be anything lower and upper characters\n",
    "    - ^[a-zA-Z0-9]{8}$ --> accept 8\n"
   ]
  },
  {
   "cell_type": "code",
   "execution_count": 3,
   "metadata": {},
   "outputs": [
    {
     "name": "stdout",
     "output_type": "stream",
     "text": [
      "True\n",
      "False\n"
     ]
    }
   ],
   "source": [
    "#function to test username having 8 characters\n",
    "#upper case and lower\n",
    "def testUsername(s):\n",
    "    pattern = '^[a-zA-Z]{8}$'\n",
    "    if re.match(pattern,s):\n",
    "        return True\n",
    "    return False\n",
    "print(testUsername(\"GITAMHYD\"))\n",
    "print(testUsername('Gitam188'))"
   ]
  },
  {
   "cell_type": "markdown",
   "metadata": {},
   "source": [
    "### REGULAR EXPRESSION TO MATCH INDIAN MOBILE NUMBER  \n",
    "    -10 digits\n",
    "    - first digit will be(6-9)and remaining 9 digits will be[0=9]\n",
    "    - ex:8099959699"
   ]
  },
  {
   "cell_type": "code",
   "execution_count": 6,
   "metadata": {},
   "outputs": [
    {
     "data": {
      "text/plain": [
       "True"
      ]
     },
     "execution_count": 6,
     "metadata": {},
     "output_type": "execute_result"
    }
   ],
   "source": [
    "## function to validate the indian mobile number\n",
    "def phoneNumberValidation(phone):\n",
    "    pattern='^[6-9][0-9]{9}$|^[0][6-9][0-9]{9}$|^[+][9][1][6-9][0-9]{9}$'\n",
    "    phone=str(phone)\n",
    "    if re.match(pattern,phone):\n",
    "        return True\n",
    "    return False\n",
    "phoneNumberValidation('+919876543210')\n"
   ]
  },
  {
   "cell_type": "markdown",
   "metadata": {},
   "source": [
    "### REGULAR EXPRESSION TO VALIDATE ROLLNUMBER\n",
    "   - EX:1521A00\n",
    "   - ex:1521A09\n",
    "### REGULAR EXPRESSON TO VALIDATE PASSWORD\n",
    "    - parameters:len min of 6 characters and max of 15 characters\n",
    "    - accept lower case,upper case,digits spl char(@,#,!)\n",
    "   "
   ]
  },
  {
   "cell_type": "code",
   "execution_count": 7,
   "metadata": {},
   "outputs": [
    {
     "name": "stdout",
     "output_type": "stream",
     "text": [
      "True\n"
     ]
    }
   ],
   "source": [
    "def rollnumbervalidate(rollnumber):\n",
    "   pattern='^[1][5][2][1][A][0][0-9]{3}$'\n",
    "   rollnumber=str(rollnumber)\n",
    "   if re.match(pattern,rollnumber):\n",
    "       return True\n",
    "   return False\n",
    "print(rollnumbervalidate('1521A0764'))\n"
   ]
  },
  {
   "cell_type": "markdown",
   "metadata": {},
   "source": [
    "### Email Id vaalidation using Regular Expression\n",
    " - Example :- Username@DomainName.extention\n",
    " - Username :-\n",
    "        - length will be [6-15]\n",
    "        - no spls characters apart from underscore(_)\n",
    "        - should not begin and ends with underscore(_)\n",
    "        - characters Set : All digits and lower case\n",
    " - Domain \n",
    "        ! domainname:-\n",
    "     - length will be[3-18]\n",
    "     - no spl characters\n",
    "     - characters set:-all digits are lowercase charcters\n",
    "- Extension:-\n",
    "        - length will be [3-18]\n",
    "        - no spl characters\n",
    "        - character set : lower case characters\n",
    "        "
   ]
  },
  {
   "cell_type": "code",
   "execution_count": null,
   "metadata": {},
   "outputs": [],
   "source": [
    "def emailIdValidate(email):\n",
    "    pattern = '^[0-9a-z]'"
   ]
  },
  {
   "cell_type": "code",
   "execution_count": 10,
   "metadata": {},
   "outputs": [
    {
     "data": {
      "text/plain": [
       "True"
      ]
     },
     "execution_count": 10,
     "metadata": {},
     "output_type": "execute_result"
    }
   ],
   "source": [
    "def emailidvalidation(email):\n",
    "    pattern='^[0-9a-z][0-9a-z_.]{5,14}[@][a-z0-9]{3,18}[.][a-z]{2,4}$'\n",
    "    if re.match(pattern,email):\n",
    "        return True\n",
    "    return False\n",
    "emailidvalidation('chandu14@gmail.com')\n"
   ]
  },
  {
   "cell_type": "code",
   "execution_count": null,
   "metadata": {},
   "outputs": [],
   "source": [
    "#step 1: make all the turtle packageto the imported\n",
    "import turtle\n",
    "#turtle method creates and return a new job\n",
    "a1=turtle.Turtle\n",
    "#forward()\n",
    "turtle.forward()\n",
    "# we are done\n",
    "turtle.done()"
   ]
  },
  {
   "cell_type": "code",
   "execution_count": null,
   "metadata": {},
   "outputs": [],
   "source": [
    "#draw square\n",
    "import turtle as tt\n",
    "a1=tt.Turtle()\n",
    "a1.forward(150)\n",
    "a1.right(90)\n",
    "a1.forward(150)\n",
    "a1.right(90)\n",
    "a1.forward(150)\n",
    "a1.right(90)\n",
    "a1.forward(150)\n",
    "a1.right(90)\n",
    "tt.done()"
   ]
  },
  {
   "cell_type": "code",
   "execution_count": null,
   "metadata": {},
   "outputs": [],
   "source": [
    "# draw star\n",
    "import turtle as t\n",
    "a1=t.Turtle()\n",
    "for i in range(40):\n",
    "    a1.forward(50)\n",
    "    a1.right(144)\n",
    "t.done()\n"
   ]
  },
  {
   "cell_type": "code",
   "execution_count": null,
   "metadata": {},
   "outputs": [],
   "source": [
    "#hexagon spiral with multicolor\n",
    "from turtle import *\n",
    "colors=['blue','green','yellow','purple','red','black']\n",
    "for x in range(360):\n",
    "    pencolor(colors[x%6])\n",
    "    width(x/100+1)\n",
    "    forward(x)\n",
    "    left(59)"
   ]
  },
  {
   "cell_type": "code",
   "execution_count": 1,
   "metadata": {},
   "outputs": [],
   "source": [
    "# goto function\n",
    "from turtle import *\n",
    "goto(50,50)\n",
    "goto(-50,50)\n",
    "goto(100,-50)\n",
    "goto(-50,-50)\n"
   ]
  },
  {
   "cell_type": "code",
   "execution_count": 1,
   "metadata": {},
   "outputs": [],
   "source": [
    "from turtle import *\n",
    "colors=['blue','green','orange','black','red','purple']\n",
    "for angle in range(0,360,15):\n",
    "   pencolor(colors[angle%6])\n",
    "   setheading(angle)\n",
    "   forward(100)\n",
    "   write(str(angle) + '0')\n",
    "   backward(100)\n"
   ]
  },
  {
   "cell_type": "code",
   "execution_count": 1,
   "metadata": {},
   "outputs": [],
   "source": [
    "\n",
    "from turtle import *\n",
    "pencolor(\"blue\")\n",
    "for i in range(20):\n",
    "    forward(100)\n",
    "    left(90)\n",
    "    forward(100)\n",
    "    left(90)\n",
    "    forward(100)\n",
    "    right(90)\n",
    "    forward(100)\n",
    "    right(90)\n",
    "pencolor('red')\n",
    "for i in range(90):\n",
    "    undo()\n",
    "\n"
   ]
  },
  {
   "cell_type": "code",
   "execution_count": 1,
   "metadata": {},
   "outputs": [],
   "source": [
    "from turtle import *\n",
    "pensize(40)\n",
    "pencolor(\"black\")\n",
    "forward(250)\n",
    "pen(\"0,1.0,0\")\n",
    "forward(250)\n",
    "pensize(10)\n",
    "goto(-400,50)\n",
    "\n",
    "for red in range(4):\n",
    "   for green in range(4):\n",
    "       for blue in range(4):\n",
    "           pencolor(red/4.0,green/4.0,blue/4.0)\n",
    "           forward(10)\n"
   ]
  },
  {
   "cell_type": "code",
   "execution_count": 3,
   "metadata": {},
   "outputs": [],
   "source": [
    "#Program to draw circle in Python Turtle\n",
    "import turtle  \n",
    "t = turtle.Turtle()\n",
    "t.circle(50)\n"
   ]
  }
 ],
 "metadata": {
  "kernelspec": {
   "display_name": "Python 3",
   "language": "python",
   "name": "python3"
  },
  "language_info": {
   "codemirror_mode": {
    "name": "ipython",
    "version": 3
   },
   "file_extension": ".py",
   "mimetype": "text/x-python",
   "name": "python",
   "nbconvert_exporter": "python",
   "pygments_lexer": "ipython3",
   "version": "3.7.3"
  }
 },
 "nbformat": 4,
 "nbformat_minor": 2
}
