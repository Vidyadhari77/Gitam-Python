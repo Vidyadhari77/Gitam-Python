{
 "cells": [
  {
   "cell_type": "markdown",
   "metadata": {},
   "source": [
    "## STANDARD LIBRARIES\n",
    "    - file I/o\n",
    "    - regular expression\n",
    "    - datetime\n",
    "    - math(numerical and mathematical)"
   ]
  },
  {
   "cell_type": "markdown",
   "metadata": {},
   "source": [
    "##  FILE HEADING IN PYTHON\n",
    "   - File-Document containing information resides on the permanent storage\n",
    "   - Different type of files-txt,doc,pdf,csv and etc\n",
    "   - input-keyboard\n",
    "   - output-File\n",
    "## MODES OF FILE I/O\n",
    "   - 'w'-- this is used to file writing\n",
    "   - if file is not prsent first it creates the file\n",
    "   - if the file s already present it rewrites the previous content\n",
    "   "
   ]
  },
  {
   "cell_type": "code",
   "execution_count": 2,
   "metadata": {},
   "outputs": [
    {
     "name": "stdout",
     "output_type": "stream",
     "text": [
      "file is created and data has been written\n"
     ]
    }
   ],
   "source": [
    "#function to create a file and write to the file\n",
    "def createfile(filename):\n",
    "    f=open(filename,\"w\")\n",
    "    for i in range(10):\n",
    "        f.write('this is %d line'%i)\n",
    "    print(\"file is created and data has been written\")\n",
    "    return\n",
    "createfile('file.txt')\n"
   ]
  },
  {
   "cell_type": "code",
   "execution_count": 3,
   "metadata": {},
   "outputs": [
    {
     "name": "stdout",
     "output_type": "stream",
     "text": [
      " Volume in drive C has no label.\n",
      " Volume Serial Number is 5E03-CD26\n",
      "\n",
      " Directory of C:\\Users\\admin\n",
      "\n",
      "11-07-2019  09:34    <DIR>          .\n",
      "11-07-2019  09:34    <DIR>          ..\n",
      "21-06-2019  14:40    <DIR>          .anaconda\n",
      "25-06-2019  17:23                69 .bash_history\n",
      "26-06-2019  14:17    <DIR>          .conda\n",
      "26-06-2019  14:17                43 .condarc\n",
      "11-07-2019  09:18    <DIR>          .ipynb_checkpoints\n",
      "21-06-2019  14:59    <DIR>          .ipython\n",
      "08-07-2019  09:35    <DIR>          .jupyter\n",
      "09-07-2019  15:49            12,387 61@09-07-2019.ipynb\n",
      "10-07-2019  15:34            14,814 61@10-07-2019.ipynb\n",
      "10-07-2019  16:46             7,286 61@10-07-2019assignment.ipynb\n",
      "11-07-2019  09:33             2,131 61@11-07-2019.ipynb\n",
      "08-07-2019  09:46             2,562 61@8-7-2019.ipynb\n",
      "08-07-2019  15:55             8,616 61@8-7-2019-Copy1.ipynb\n",
      "06-06-2019  14:51    <DIR>          Contacts\n",
      "25-06-2019  11:06             2,644 Data Structures.ipynb\n",
      "08-07-2019  12:20    <DIR>          Desktop\n",
      "06-06-2019  14:51    <DIR>          Documents\n",
      "10-07-2019  16:56    <DIR>          Downloads\n",
      "06-06-2019  14:51    <DIR>          Favorites\n",
      "11-07-2019  09:34               140 file.txt\n",
      "06-06-2019  14:51    <DIR>          Links\n",
      "06-06-2019  14:51    <DIR>          Music\n",
      "06-06-2019  14:51    <DIR>          Pictures\n",
      "06-06-2019  14:51    <DIR>          Saved Games\n",
      "06-06-2019  14:51    <DIR>          Searches\n",
      "21-06-2019  15:25               800 Untitled.ipynb\n",
      "22-06-2019  11:17             2,165 Untitled1.ipynb\n",
      "26-06-2019  14:17                72 Untitled10.ipynb\n",
      "28-06-2019  15:38               555 Untitled11.ipynb\n",
      "09-07-2019  09:17                72 Untitled12.ipynb\n",
      "24-06-2019  09:06                72 Untitled2.ipynb\n",
      "24-06-2019  09:26               555 Untitled3.ipynb\n",
      "24-06-2019  09:53             2,915 Untitled4.ipynb\n",
      "25-06-2019  09:47             4,579 Untitled5.ipynb\n",
      "25-06-2019  09:45               555 Untitled6.ipynb\n",
      "25-06-2019  17:19             3,048 Untitled7.ipynb\n",
      "25-06-2019  16:51                72 Untitled8.ipynb\n",
      "26-06-2019  14:15               555 Untitled9.ipynb\n",
      "06-06-2019  14:51    <DIR>          Videos\n",
      "              23 File(s)         66,707 bytes\n",
      "              18 Dir(s)  83,839,270,912 bytes free\n"
     ]
    }
   ],
   "source": [
    "ls"
   ]
  },
  {
   "cell_type": "code",
   "execution_count": 4,
   "metadata": {},
   "outputs": [
    {
     "name": "stdout",
     "output_type": "stream",
     "text": [
      "file created and successfully data written\n"
     ]
    }
   ],
   "source": [
    "def appendData(filename):\n",
    "    f = open (filename,'a')\n",
    "    for i in range(10):\n",
    "        f.write(\"this is %d  line\\n\" %  i)\n",
    "    print(\"file created and successfully data written\")\n",
    "    return\n",
    "appendData('file2.txt')"
   ]
  },
  {
   "cell_type": "code",
   "execution_count": 5,
   "metadata": {},
   "outputs": [
    {
     "name": "stdout",
     "output_type": "stream",
     "text": [
      "file created and successfully data written\n"
     ]
    }
   ],
   "source": [
    "def appendData(filename):\n",
    "    f = open (filename,'a')\n",
    "    f.write(\"New Line 1 \\n\")\n",
    "    f.write(\"New line 2 \\n\" )\n",
    "    print(\"file created and successfully data written\")\n",
    "    return\n",
    "appendData('file2.txt')\n"
   ]
  },
  {
   "cell_type": "code",
   "execution_count": 3,
   "metadata": {},
   "outputs": [
    {
     "name": "stdout",
     "output_type": "stream",
     "text": [
      "this is 0  line\n",
      "this is 1  line\n",
      "this is 2  line\n",
      "this is 3  line\n",
      "this is 4  line\n",
      "this is 5  line\n",
      "this is 6  line\n",
      "this is 7  line\n",
      "this is 8  line\n",
      "this is 9  line\n",
      "New Line 1 \n",
      "New line 2 \n",
      "\n"
     ]
    }
   ],
   "source": [
    "#function to read the file\n",
    "def readfileData(filename):\n",
    "    f=open(filename,'r')\n",
    "    if f.mode =='r':\n",
    "        x=f.read()\n",
    "        print(x)\n",
    "    f.close()\n",
    "    return\n",
    "readfileData('file2.txt')"
   ]
  },
  {
   "cell_type": "code",
   "execution_count": null,
   "metadata": {},
   "outputs": [],
   "source": [
    "#function to read the file\n",
    "def readfile2(filename,mode):\n",
    "    with open(filename,mode) as f:\n",
    "        if f.mode=='r':\n",
    "            data=f.read()\n",
    "            print(data)\n",
    "        elif f.mode=='a':\n",
    "            f.write('data to the file')\n",
    "        return\n",
    "filename=input('enter the filename')\n",
    "mode=input('enter the mode of the file')\n",
    "fileoperations(filename.mode)"
   ]
  },
  {
   "cell_type": "markdown",
   "metadata": {},
   "source": [
    "## word count program"
   ]
  },
  {
   "cell_type": "code",
   "execution_count": 6,
   "metadata": {},
   "outputs": [
    {
     "name": "stdout",
     "output_type": "stream",
     "text": [
      "enter the filename:61@11-07-2019.ipynb\n",
      "enter the word:def\n"
     ]
    },
    {
     "data": {
      "text/plain": [
       "0"
      ]
     },
     "execution_count": 6,
     "metadata": {},
     "output_type": "execute_result"
    }
   ],
   "source": [
    "\n",
    "#data analysis\n",
    "#word count program\n",
    "def wordcount(filename,word):\n",
    "    with open(filename,'r') as f:\n",
    "        if f.mode=='r':\n",
    "            x=f.read()\n",
    "            li=x.split() #it splits the string\n",
    "    cnt = li.count(word)        \n",
    "    return cnt\n",
    "filename=input(\"enter the filename:\")\n",
    "word=input(\"enter the word:\")\n",
    "wordcount(filename,word)"
   ]
  },
  {
   "cell_type": "code",
   "execution_count": 7,
   "metadata": {},
   "outputs": [
    {
     "name": "stdout",
     "output_type": "stream",
     "text": [
      "enter the filename:61@10-07-2019assignment.ipynb\n"
     ]
    },
    {
     "data": {
      "text/plain": [
       "7286"
      ]
     },
     "execution_count": 7,
     "metadata": {},
     "output_type": "execute_result"
    }
   ],
   "source": [
    "#character count from a given file\n",
    "def charcount(filename):\n",
    "    with open(filename,'r') as f:\n",
    "        if f.mode =='r':\n",
    "            x=f.read()\n",
    "            li=list(x)#convert the string-char\n",
    "        return len(li)\n",
    "filename = input('enter the filename:')\n",
    "charcount(filename)\n"
   ]
  },
  {
   "cell_type": "code",
   "execution_count": 1,
   "metadata": {},
   "outputs": [
    {
     "name": "stdout",
     "output_type": "stream",
     "text": [
      "enter the filename : 61@09-07-2019.ipynb\n"
     ]
    },
    {
     "data": {
      "text/plain": [
       "544"
      ]
     },
     "execution_count": 1,
     "metadata": {},
     "output_type": "execute_result"
    }
   ],
   "source": [
    "# Function to first the no of lnes to the input file \n",
    "# input  -- filename(file2.txt)\n",
    "# output -- no of lines(12)\n",
    "def countoflines(filename):\n",
    "    with open(filename,'r') as f:\n",
    "        if f.mode == 'r':\n",
    "            x = f.read()\n",
    "            li = x.split(\"\\n\")\n",
    "    return len(li)\n",
    "filename = input('enter the filename : ')\n",
    "countoflines(filename)\n",
    "\n"
   ]
  },
  {
   "cell_type": "markdown",
   "metadata": {},
   "source": [
    "## function to print upper and lower charcters"
   ]
  },
  {
   "cell_type": "code",
   "execution_count": 10,
   "metadata": {},
   "outputs": [
    {
     "name": "stdout",
     "output_type": "stream",
     "text": [
      "enter filename:61@8-7-2019.ipynb\n"
     ]
    },
    {
     "data": {
      "text/plain": [
       "'upper case = 21,lower case =978'"
      ]
     },
     "execution_count": 10,
     "metadata": {},
     "output_type": "execute_result"
    }
   ],
   "source": [
    "def casecount(filename):\n",
    "    cntupper=0\n",
    "    cntlower=0\n",
    "    with open(filename,'r') as f:\n",
    "        if f.mode =='r':\n",
    "            x = f.read()\n",
    "            li=list(x)\n",
    "    for i in li:\n",
    "        if i.isupper():\n",
    "            cntupper +=1\n",
    "        elif i.islower():\n",
    "            cntlower +=1\n",
    "    output='upper case = {0},lower case ={1}'.format(cntupper,cntlower)\n",
    "    return output\n",
    "filename =input('enter filename:')\n",
    "casecount(filename)"
   ]
  },
  {
   "cell_type": "markdown",
   "metadata": {},
   "source": [
    "## math,randam,os\n",
    "    - os package it contains methods which works with os"
   ]
  },
  {
   "cell_type": "code",
   "execution_count": 11,
   "metadata": {},
   "outputs": [
    {
     "name": "stdout",
     "output_type": "stream",
     "text": [
      " Volume in drive C has no label.\n",
      " Volume Serial Number is 5E03-CD26\n",
      "\n",
      " Directory of C:\\Users\\admin\n",
      "\n",
      "11-07-2019  12:28    <DIR>          .\n",
      "11-07-2019  12:28    <DIR>          ..\n",
      "21-06-2019  14:40    <DIR>          .anaconda\n",
      "25-06-2019  17:23                69 .bash_history\n",
      "26-06-2019  14:17    <DIR>          .conda\n",
      "26-06-2019  14:17                43 .condarc\n",
      "11-07-2019  09:18    <DIR>          .ipynb_checkpoints\n",
      "21-06-2019  14:59    <DIR>          .ipython\n",
      "08-07-2019  09:35    <DIR>          .jupyter\n",
      "09-07-2019  15:49            12,387 61@09-07-2019.ipynb\n",
      "10-07-2019  15:34            14,814 61@10-07-2019.ipynb\n",
      "10-07-2019  16:46             7,286 61@10-07-2019assignment.ipynb\n",
      "11-07-2019  12:28            11,291 61@11-07-2019.ipynb\n",
      "08-07-2019  09:46             2,562 61@8-7-2019.ipynb\n",
      "08-07-2019  15:55             8,616 61@8-7-2019-Copy1.ipynb\n",
      "06-06-2019  14:51    <DIR>          Contacts\n",
      "25-06-2019  11:06             2,644 Data Structures.ipynb\n",
      "08-07-2019  12:20    <DIR>          Desktop\n",
      "06-06-2019  14:51    <DIR>          Documents\n",
      "11-07-2019  11:25    <DIR>          Downloads\n",
      "06-06-2019  14:51    <DIR>          Favorites\n",
      "11-07-2019  09:34               140 file.txt\n",
      "11-07-2019  10:05               196 file2.txt\n",
      "06-06-2019  14:51    <DIR>          Links\n",
      "06-06-2019  14:51    <DIR>          Music\n",
      "06-06-2019  14:51    <DIR>          Pictures\n",
      "06-06-2019  14:51    <DIR>          Saved Games\n",
      "06-06-2019  14:51    <DIR>          Searches\n",
      "21-06-2019  15:25               800 Untitled.ipynb\n",
      "22-06-2019  11:17             2,165 Untitled1.ipynb\n",
      "26-06-2019  14:17                72 Untitled10.ipynb\n",
      "28-06-2019  15:38               555 Untitled11.ipynb\n",
      "09-07-2019  09:17                72 Untitled12.ipynb\n",
      "24-06-2019  09:06                72 Untitled2.ipynb\n",
      "24-06-2019  09:26               555 Untitled3.ipynb\n",
      "24-06-2019  09:53             2,915 Untitled4.ipynb\n",
      "25-06-2019  09:47             4,579 Untitled5.ipynb\n",
      "25-06-2019  09:45               555 Untitled6.ipynb\n",
      "25-06-2019  17:19             3,048 Untitled7.ipynb\n",
      "25-06-2019  16:51                72 Untitled8.ipynb\n",
      "26-06-2019  14:15               555 Untitled9.ipynb\n",
      "06-06-2019  14:51    <DIR>          Videos\n",
      "              24 File(s)         76,063 bytes\n",
      "              18 Dir(s)  83,773,050,880 bytes free\n"
     ]
    }
   ],
   "source": [
    "ls"
   ]
  },
  {
   "cell_type": "code",
   "execution_count": 12,
   "metadata": {},
   "outputs": [
    {
     "name": "stdout",
     "output_type": "stream",
     "text": [
      "[WinError 3] The system cannot find the path specified: 'Desktop/pythonprog/Git'\n",
      "C:\\Users\\admin\n"
     ]
    }
   ],
   "source": [
    "                                                                                                                                                                                                                                                                                                                                                                                                             cd Desktop/pythonprog/Git                                                                                                                           "
   ]
  },
  {
   "cell_type": "code",
   "execution_count": 13,
   "metadata": {},
   "outputs": [
    {
     "name": "stdout",
     "output_type": "stream",
     "text": [
      "C:\\Users\\admin\\desktop\n"
     ]
    }
   ],
   "source": [
    "cd desktop"
   ]
  },
  {
   "cell_type": "code",
   "execution_count": 14,
   "metadata": {},
   "outputs": [
    {
     "name": "stdout",
     "output_type": "stream",
     "text": [
      " Volume in drive C has no label.\n",
      " Volume Serial Number is 5E03-CD26\n",
      "\n",
      " Directory of C:\\Users\\admin\\desktop\n",
      "\n",
      "08-07-2019  12:20    <DIR>          .\n",
      "08-07-2019  12:20    <DIR>          ..\n",
      "08-07-2019  12:20    <DIR>          cs9@61\n",
      "08-07-2019  13:02             7,211 factorial.rap\n",
      "25-06-2019  15:14    <DIR>          git\n",
      "25-06-2019  15:10    <DIR>          gitam-training\n",
      "21-06-2019  14:39             2,201 Google Chrome.lnk\n",
      "05-07-2019  17:06           685,568 NATA_ClientSETUP_4.0.msi\n",
      "06-07-2019  16:59             3,035 NATA_Online.lnk\n",
      "               4 File(s)        698,015 bytes\n",
      "               5 Dir(s)  83,772,899,328 bytes free\n"
     ]
    }
   ],
   "source": [
    "ls"
   ]
  },
  {
   "cell_type": "code",
   "execution_count": 15,
   "metadata": {},
   "outputs": [
    {
     "data": {
      "text/plain": [
       "['.git']"
      ]
     },
     "execution_count": 15,
     "metadata": {},
     "output_type": "execute_result"
    }
   ],
   "source": [
    "import os\n",
    "os.listdir('Git/')#listdir()--ls"
   ]
  },
  {
   "cell_type": "code",
   "execution_count": 16,
   "metadata": {},
   "outputs": [
    {
     "name": "stdout",
     "output_type": "stream",
     "text": [
      ".git\n"
     ]
    }
   ],
   "source": [
    "li = os.listdir('Git/')\n",
    "for i in li:\n",
    "    print(i)\n"
   ]
  },
  {
   "cell_type": "markdown",
   "metadata": {},
   "source": [
    "\n",
    " -  older version python -- os.listdir()\n",
    "  - new verison python -- os.scandir() and pathlib.path()"
   ]
  },
  {
   "cell_type": "code",
   "execution_count": 20,
   "metadata": {},
   "outputs": [
    {
     "name": "stdout",
     "output_type": "stream",
     "text": [
      "<DirEntry '.git'>\n"
     ]
    }
   ],
   "source": [
    "li = os.scandir('Git/')\n",
    "for i in li :\n",
    "    print(i)"
   ]
  },
  {
   "cell_type": "code",
   "execution_count": 23,
   "metadata": {},
   "outputs": [
    {
     "ename": "ModuleNotFoundError",
     "evalue": "No module named 'path.lib'; 'path' is not a package",
     "output_type": "error",
     "traceback": [
      "\u001b[1;31m---------------------------------------------------------------------------\u001b[0m",
      "\u001b[1;31mModuleNotFoundError\u001b[0m                       Traceback (most recent call last)",
      "\u001b[1;32m<ipython-input-23-5bf139c6cd95>\u001b[0m in \u001b[0;36m<module>\u001b[1;34m\u001b[0m\n\u001b[1;32m----> 1\u001b[1;33m \u001b[1;32mfrom\u001b[0m \u001b[0mpath\u001b[0m\u001b[1;33m.\u001b[0m\u001b[0mlib\u001b[0m \u001b[1;32mimport\u001b[0m \u001b[0mPath\u001b[0m\u001b[1;33m\u001b[0m\u001b[1;33m\u001b[0m\u001b[0m\n\u001b[0m\u001b[0;32m      2\u001b[0m \u001b[0mli\u001b[0m \u001b[1;33m=\u001b[0m \u001b[0mPath\u001b[0m\u001b[1;33m(\u001b[0m\u001b[1;34m'Git/'\u001b[0m\u001b[1;33m)\u001b[0m\u001b[1;33m\u001b[0m\u001b[1;33m\u001b[0m\u001b[0m\n\u001b[0;32m      3\u001b[0m \u001b[1;32mfor\u001b[0m \u001b[0mi\u001b[0m \u001b[1;32min\u001b[0m \u001b[0mli\u001b[0m\u001b[1;33m.\u001b[0m\u001b[0miterdir\u001b[0m\u001b[1;33m(\u001b[0m\u001b[1;33m)\u001b[0m\u001b[1;33m:\u001b[0m\u001b[1;33m\u001b[0m\u001b[1;33m\u001b[0m\u001b[0m\n\u001b[0;32m      4\u001b[0m     \u001b[0mprint\u001b[0m\u001b[1;33m(\u001b[0m\u001b[0mi\u001b[0m\u001b[1;33m.\u001b[0m\u001b[0mname\u001b[0m\u001b[1;33m)\u001b[0m\u001b[1;33m\u001b[0m\u001b[1;33m\u001b[0m\u001b[0m\n",
      "\u001b[1;31mModuleNotFoundError\u001b[0m: No module named 'path.lib'; 'path' is not a package"
     ]
    }
   ],
   "source": [
    "from path.lib import Path\n",
    "li = Path('Git/')\n",
    "for i in li.iterdir():\n",
    "    print(i.name)"
   ]
  },
  {
   "cell_type": "markdown",
   "metadata": {},
   "source": [
    "## listing all files in a directory"
   ]
  },
  {
   "cell_type": "code",
   "execution_count": 3,
   "metadata": {},
   "outputs": [
    {
     "ename": "FileNotFoundError",
     "evalue": "[WinError 3] The system cannot find the path specified: 'Git/'",
     "output_type": "error",
     "traceback": [
      "\u001b[1;31m---------------------------------------------------------------------------\u001b[0m",
      "\u001b[1;31mFileNotFoundError\u001b[0m                         Traceback (most recent call last)",
      "\u001b[1;32m<ipython-input-3-c0e3d97ec91c>\u001b[0m in \u001b[0;36m<module>\u001b[1;34m\u001b[0m\n\u001b[0;32m      1\u001b[0m \u001b[1;32mimport\u001b[0m \u001b[0mos\u001b[0m\u001b[1;33m\u001b[0m\u001b[1;33m\u001b[0m\u001b[0m\n\u001b[0;32m      2\u001b[0m \u001b[0mdirPath\u001b[0m \u001b[1;33m=\u001b[0m \u001b[1;34m\"Git/\"\u001b[0m\u001b[1;33m\u001b[0m\u001b[1;33m\u001b[0m\u001b[0m\n\u001b[1;32m----> 3\u001b[1;33m \u001b[1;32mfor\u001b[0m \u001b[0mi\u001b[0m \u001b[1;32min\u001b[0m \u001b[0mos\u001b[0m\u001b[1;33m.\u001b[0m\u001b[0mlistdir\u001b[0m\u001b[1;33m(\u001b[0m\u001b[0mdirPath\u001b[0m\u001b[1;33m)\u001b[0m\u001b[1;33m:\u001b[0m\u001b[1;33m\u001b[0m\u001b[1;33m\u001b[0m\u001b[0m\n\u001b[0m\u001b[0;32m      4\u001b[0m     \u001b[1;32mif\u001b[0m \u001b[0mos\u001b[0m\u001b[1;33m.\u001b[0m\u001b[0mpath\u001b[0m\u001b[1;33m.\u001b[0m\u001b[0mfile\u001b[0m\u001b[1;33m.\u001b[0m\u001b[0misfile\u001b[0m\u001b[1;33m(\u001b[0m\u001b[0mos\u001b[0m\u001b[1;33m.\u001b[0m\u001b[0mpath\u001b[0m\u001b[1;33m.\u001b[0m\u001b[0mjoin\u001b[0m\u001b[1;33m(\u001b[0m\u001b[0mdirPath\u001b[0m\u001b[1;33m,\u001b[0m\u001b[0mi\u001b[0m\u001b[1;33m)\u001b[0m\u001b[1;33m)\u001b[0m\u001b[1;33m:\u001b[0m\u001b[1;33m\u001b[0m\u001b[1;33m\u001b[0m\u001b[0m\n\u001b[0;32m      5\u001b[0m         \u001b[0mprint\u001b[0m\u001b[1;33m(\u001b[0m\u001b[0mi\u001b[0m\u001b[1;33m)\u001b[0m\u001b[1;33m\u001b[0m\u001b[1;33m\u001b[0m\u001b[0m\n",
      "\u001b[1;31mFileNotFoundError\u001b[0m: [WinError 3] The system cannot find the path specified: 'Git/'"
     ]
    }
   ],
   "source": [
    "import os\n",
    "dirPath = \"Git/\"\n",
    "for i in os.listdir(dirPath):\n",
    "    if os.path.file.isfile(os.path.join(dirPath,i)):\n",
    "        print(i)"
   ]
  },
  {
   "cell_type": "markdown",
   "metadata": {},
   "source": [
    "## CREATING A SINGLE DIRECTORY"
   ]
  },
  {
   "cell_type": "code",
   "execution_count": 4,
   "metadata": {},
   "outputs": [],
   "source": [
    "import os\n",
    "os.mkdir('singledirectory')"
   ]
  },
  {
   "cell_type": "code",
   "execution_count": 8,
   "metadata": {},
   "outputs": [],
   "source": [
    "import pathlib\n",
    "p=pathlib.Path('gitam-python')\n",
    "p.mkdir()"
   ]
  },
  {
   "cell_type": "code",
   "execution_count": 9,
   "metadata": {},
   "outputs": [
    {
     "name": "stdout",
     "output_type": "stream",
     "text": [
      "[WinError 2] The system cannot find the file specified: 'git'\n",
      "C:\\Users\\admin\n"
     ]
    }
   ],
   "source": [
    "cd git"
   ]
  },
  {
   "cell_type": "code",
   "execution_count": 10,
   "metadata": {},
   "outputs": [
    {
     "name": "stdout",
     "output_type": "stream",
     "text": [
      "C:\\Users\\admin\\gitam-python\n"
     ]
    }
   ],
   "source": [
    "cd gitam-python"
   ]
  },
  {
   "cell_type": "code",
   "execution_count": 11,
   "metadata": {},
   "outputs": [
    {
     "data": {
      "text/plain": [
       "'C:\\\\Users\\\\admin\\\\gitam-python'"
      ]
     },
     "execution_count": 11,
     "metadata": {},
     "output_type": "execute_result"
    }
   ],
   "source": [
    "pwd"
   ]
  },
  {
   "cell_type": "code",
   "execution_count": 12,
   "metadata": {},
   "outputs": [
    {
     "name": "stdout",
     "output_type": "stream",
     "text": [
      " Volume in drive C has no label.\n",
      " Volume Serial Number is 5E03-CD26\n",
      "\n",
      " Directory of C:\\Users\\admin\\gitam-python\n",
      "\n",
      "11-07-2019  15:02    <DIR>          .\n",
      "11-07-2019  15:02    <DIR>          ..\n",
      "               0 File(s)              0 bytes\n",
      "               2 Dir(s)  83,762,388,992 bytes free\n"
     ]
    }
   ],
   "source": [
    "ls"
   ]
  },
  {
   "cell_type": "markdown",
   "metadata": {},
   "source": [
    "## CREATING MULTIPLE DIRECTORIES"
   ]
  },
  {
   "cell_type": "code",
   "execution_count": 6,
   "metadata": {},
   "outputs": [],
   "source": [
    "import os\n",
    "os.makedirs('2019/july/11')"
   ]
  },
  {
   "cell_type": "code",
   "execution_count": 13,
   "metadata": {},
   "outputs": [
    {
     "name": "stdout",
     "output_type": "stream",
     "text": [
      " Volume in drive C has no label.\n",
      " Volume Serial Number is 5E03-CD26\n",
      "\n",
      " Directory of C:\\Users\\admin\\gitam-python\n",
      "\n",
      "11-07-2019  15:02    <DIR>          .\n",
      "11-07-2019  15:02    <DIR>          ..\n",
      "               0 File(s)              0 bytes\n",
      "               2 Dir(s)  83,762,454,528 bytes free\n"
     ]
    }
   ],
   "source": [
    "ls"
   ]
  },
  {
   "cell_type": "markdown",
   "metadata": {},
   "source": [
    "### filename pattern matching"
   ]
  },
  {
   "cell_type": "code",
   "execution_count": null,
   "metadata": {},
   "outputs": [],
   "source": [
    "import os\n",
    "dirpath='git/'\n",
    "for f_name in os.listdir(dirpath):\n",
    "   if f_name.startswith('0'):\n",
    "       print(f_name)"
   ]
  },
  {
   "cell_type": "markdown",
   "metadata": {},
   "source": [
    "import os\n",
    "dirpath='git/'\n",
    "for f_name in os.listdir(dirpath):\n",
    "   if f_name.startswith('0'):\n",
    "       print(f_name)"
   ]
  },
  {
   "cell_type": "markdown",
   "metadata": {},
   "source": [
    "### deleting files and directories"
   ]
  },
  {
   "cell_type": "code",
   "execution_count": null,
   "metadata": {},
   "outputs": [],
   "source": [
    "mport os\n",
    "data_file='file.txt'#gives the entire path\n",
    "os.remove(dat_file)"
   ]
  },
  {
   "cell_type": "code",
   "execution_count": null,
   "metadata": {},
   "outputs": [],
   "source": [
    "import shuitl    #delete the tree of strucutre of folder\n",
    "data_dir='2019'\n",
    "shutil.return(dat_dir)"
   ]
  },
  {
   "cell_type": "markdown",
   "metadata": {},
   "source": [
    "\n",
    "### regular expressions\n",
    "    - ! used to specific pattern matching\n",
    "    - ! symbolic notations of pattern\n",
    "    - !pattern(RE):-respresents set of elements[0-9]: any digits\n"
   ]
  },
  {
   "cell_type": "code",
   "execution_count": null,
   "metadata": {},
   "outputs": [],
   "source": [
    " "
   ]
  }
 ],
 "metadata": {
  "kernelspec": {
   "display_name": "Python 3",
   "language": "python",
   "name": "python3"
  },
  "language_info": {
   "codemirror_mode": {
    "name": "ipython",
    "version": 3
   },
   "file_extension": ".py",
   "mimetype": "text/x-python",
   "name": "python",
   "nbconvert_exporter": "python",
   "pygments_lexer": "ipython3",
   "version": "3.7.3"
  }
 },
 "nbformat": 4,
 "nbformat_minor": 2
}
