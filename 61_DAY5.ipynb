{
  "nbformat": 4,
  "nbformat_minor": 0,
  "metadata": {
    "colab": {
      "name": "61@DAY5",
      "version": "0.3.2",
      "provenance": [],
      "include_colab_link": true
    },
    "language_info": {
      "codemirror_mode": {
        "name": "ipython",
        "version": 3
      },
      "file_extension": ".py",
      "mimetype": "text/x-python",
      "name": "python",
      "nbconvert_exporter": "python",
      "pygments_lexer": "ipython3",
      "version": "3.7.3"
    },
    "kernelspec": {
      "display_name": "Python 3",
      "language": "python",
      "name": "python3"
    }
  },
  "cells": [
    {
      "cell_type": "markdown",
      "metadata": {
        "id": "view-in-github",
        "colab_type": "text"
      },
      "source": [
        "<a href=\"https://colab.research.google.com/github/Vidyadhari77/Gitam-Python/blob/master/61_DAY5.ipynb\" target=\"_parent\"><img src=\"https://colab.research.google.com/assets/colab-badge.svg\" alt=\"Open In Colab\"/></a>"
      ]
    },
    {
      "cell_type": "markdown",
      "metadata": {
        "id": "LL9qNn_zGMEh",
        "colab_type": "text"
      },
      "source": [
        "# data type and conversions\n",
        " * integer\n",
        " * float\n",
        " * string\n"
      ]
    },
    {
      "cell_type": "code",
      "metadata": {
        "id": "P-DaIZOzGMEi",
        "colab_type": "code",
        "colab": {},
        "outputId": "727484e5-f08b-44b1-c2e5-9f98503742b4"
      },
      "source": [
        "x,y=15,27\n",
        "z=x+y\n",
        "print(z)"
      ],
      "execution_count": 0,
      "outputs": [
        {
          "output_type": "stream",
          "text": [
            "42\n"
          ],
          "name": "stdout"
        }
      ]
    },
    {
      "cell_type": "code",
      "metadata": {
        "id": "IbwgyIS5GMEo",
        "colab_type": "code",
        "colab": {},
        "outputId": "4fd5b51b-5176-40d3-c8d1-0f5bd23fb073"
      },
      "source": [
        "#a number is given 1234\n",
        "#digit count\n",
        "a1=1234\n",
        "print(len(str(a1)))"
      ],
      "execution_count": 0,
      "outputs": [
        {
          "output_type": "stream",
          "text": [
            "4\n"
          ],
          "name": "stdout"
        }
      ]
    },
    {
      "cell_type": "code",
      "metadata": {
        "id": "9BfHefMyGMEt",
        "colab_type": "code",
        "colab": {},
        "outputId": "b27a269a-80e9-4e58-850d-920fd6d73b37"
      },
      "source": [
        "s1=input('enter your name')\n",
        "print(s1)\n",
        "print(type(s1))"
      ],
      "execution_count": 0,
      "outputs": [
        {
          "output_type": "stream",
          "text": [
            "enter your namevidya\n",
            "vidya\n",
            "<class 'str'>\n"
          ],
          "name": "stdout"
        }
      ]
    },
    {
      "cell_type": "markdown",
      "metadata": {
        "id": "Sny0MdENGMEx",
        "colab_type": "text"
      },
      "source": [
        "## operators\n",
        "* operator is a symbol\n",
        "### arithmetic operators\n",
        "* +\n",
        "* -\n",
        "* /\n",
        "* %\n",
        "* //"
      ]
    },
    {
      "cell_type": "code",
      "metadata": {
        "id": "TZ3yFEQtGMEy",
        "colab_type": "code",
        "colab": {},
        "outputId": "e171d415-c397-4318-c895-7d24a0e896f6"
      },
      "source": [
        "n=465\n",
        "print(n/10)"
      ],
      "execution_count": 0,
      "outputs": [
        {
          "output_type": "stream",
          "text": [
            "46.5\n"
          ],
          "name": "stdout"
        }
      ]
    },
    {
      "cell_type": "code",
      "metadata": {
        "id": "FjpTRAxQGME3",
        "colab_type": "code",
        "colab": {},
        "outputId": "05bb358c-6d5a-4184-ee4c-0c76d083e79f"
      },
      "source": [
        "n=45\n",
        "p=54\n",
        "print(n-p)"
      ],
      "execution_count": 0,
      "outputs": [
        {
          "output_type": "stream",
          "text": [
            "-9\n"
          ],
          "name": "stdout"
        }
      ]
    },
    {
      "cell_type": "code",
      "metadata": {
        "id": "Ivj7g5fyGME7",
        "colab_type": "code",
        "colab": {},
        "outputId": "df355235-2715-4a7d-bb5e-516d60b22860"
      },
      "source": [
        "x,y=4,5\n",
        "print(x*y)"
      ],
      "execution_count": 0,
      "outputs": [
        {
          "output_type": "stream",
          "text": [
            "20\n"
          ],
          "name": "stdout"
        }
      ]
    },
    {
      "cell_type": "code",
      "metadata": {
        "id": "XBSQV1C0GMFB",
        "colab_type": "code",
        "colab": {},
        "outputId": "a6857690-691b-412a-ed30-d3d586df63ab"
      },
      "source": [
        "x=8657\n",
        "print(x+10)\n",
        "print(x-10)\n",
        "print(x*10)\n",
        "print(x/10)\n"
      ],
      "execution_count": 0,
      "outputs": [
        {
          "output_type": "stream",
          "text": [
            "8667\n",
            "8647\n",
            "86570\n",
            "865.7\n"
          ],
          "name": "stdout"
        }
      ]
    },
    {
      "cell_type": "markdown",
      "metadata": {
        "id": "zpu7PS3MGMFF",
        "colab_type": "text"
      },
      "source": [
        "## precedence of operators\n",
        "* paranthesis\n",
        "* power\n",
        "* multiplication\n",
        "* addition\n",
        "  * left to right"
      ]
    },
    {
      "cell_type": "code",
      "metadata": {
        "id": "hdS0rHtmGMFH",
        "colab_type": "code",
        "colab": {},
        "outputId": "9bc154ef-7813-4635-f59f-43ea684a66cb"
      },
      "source": [
        "x=2+9*5/4\n",
        "print(x)"
      ],
      "execution_count": 0,
      "outputs": [
        {
          "output_type": "stream",
          "text": [
            "13.25\n"
          ],
          "name": "stdout"
        }
      ]
    },
    {
      "cell_type": "markdown",
      "metadata": {
        "id": "oCT3yNgDGMFM",
        "colab_type": "text"
      },
      "source": [
        "###  Relational operators\n",
        "- ==\n",
        "- !=\n",
        "- >\n",
        "- <\n",
        "- >=\n",
        "- <="
      ]
    },
    {
      "cell_type": "code",
      "metadata": {
        "id": "U-qaSeAtGMFN",
        "colab_type": "code",
        "colab": {},
        "outputId": "cbc0340a-23b6-4e01-c456-a11125846ae5"
      },
      "source": [
        "x=5\n",
        "a=x>10\n",
        "print(a)\n"
      ],
      "execution_count": 0,
      "outputs": [
        {
          "output_type": "stream",
          "text": [
            "False\n"
          ],
          "name": "stdout"
        }
      ]
    },
    {
      "cell_type": "markdown",
      "metadata": {
        "id": "zV48j53vGMFS",
        "colab_type": "text"
      },
      "source": [
        "## Logical operators\n",
        "  * and\n",
        "  * or\n",
        "  * not"
      ]
    },
    {
      "cell_type": "code",
      "metadata": {
        "id": "oAdl4NQHGMFT",
        "colab_type": "code",
        "colab": {},
        "outputId": "bf6fbac4-2a36-4628-9775-2cd9af0c84de"
      },
      "source": [
        "i=100\n",
        "a1 = (i>15) and (<800)\n",
        "a2 = (i>15) and (i>800)\n",
        "print(a1)\n",
        "print(a2)"
      ],
      "execution_count": 0,
      "outputs": [
        {
          "output_type": "stream",
          "text": [
            "True\n",
            "False\n"
          ],
          "name": "stdout"
        }
      ]
    },
    {
      "cell_type": "code",
      "metadata": {
        "id": "57NhDl1sGMFX",
        "colab_type": "code",
        "colab": {},
        "outputId": "1c6fb891-7e1f-4d78-ab06-6fb43cd42a18"
      },
      "source": [
        "# to check whwther the given no is odd or even\n",
        "n1=int(input(\"enter a num\"))\n",
        "if n1%2==0:\n",
        "    print(\"even\")\n",
        "else:\n",
        "    print(\"odd\")\n",
        " "
      ],
      "execution_count": 0,
      "outputs": [
        {
          "output_type": "stream",
          "text": [
            "enter a num12\n",
            "even\n"
          ],
          "name": "stdout"
        }
      ]
    },
    {
      "cell_type": "code",
      "metadata": {
        "id": "FeHrU-KHGMFb",
        "colab_type": "code",
        "colab": {},
        "outputId": "9cc84008-2ad8-4387-d070-014ca1d05bce"
      },
      "source": [
        "n = int(input(\"enter a number\"))\n",
        "if n%3==0 and n%5==0:\n",
        "        print(\"yes\")\n",
        "else:\n",
        "    print(\"no\")"
      ],
      "execution_count": 0,
      "outputs": [
        {
          "output_type": "stream",
          "text": [
            "enter a number1\n",
            "no\n"
          ],
          "name": "stdout"
        }
      ]
    },
    {
      "cell_type": "code",
      "metadata": {
        "id": "cqLW3GKiGMFg",
        "colab_type": "code",
        "colab": {}
      },
      "source": [
        ""
      ],
      "execution_count": 0,
      "outputs": []
    },
    {
      "cell_type": "markdown",
      "metadata": {
        "id": "HRoPOLMQGMFk",
        "colab_type": "text"
      },
      "source": [
        ""
      ]
    }
  ]
}