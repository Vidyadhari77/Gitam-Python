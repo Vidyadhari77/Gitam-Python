{
 "cells": [
  {
   "cell_type": "markdown",
   "metadata": {},
   "source": [
    "# FACTORIAL"
   ]
  },
  {
   "cell_type": "code",
   "execution_count": 9,
   "metadata": {},
   "outputs": [
    {
     "name": "stdout",
     "output_type": "stream",
     "text": [
      "1 2 3 4 6 12 "
     ]
    }
   ],
   "source": [
    "def factorslist(n):\n",
    "    for i in range (1,n+1):\n",
    "        if n%i==0:\n",
    "         print(i,end=\" \")\n",
    "    return\n",
    "factorslist(12)\n",
    "                "
   ]
  },
  {
   "cell_type": "markdown",
   "metadata": {},
   "source": [
    "# given no is prime or not"
   ]
  },
  {
   "cell_type": "code",
   "execution_count": 15,
   "metadata": {},
   "outputs": [
    {
     "data": {
      "text/plain": [
       "True"
      ]
     },
     "execution_count": 15,
     "metadata": {},
     "output_type": "execute_result"
    }
   ],
   "source": [
    "def isPrime(n):\n",
    "    Flag=True\n",
    "    for i in range (2,n//2+1):\n",
    "        if n%i == 0:\n",
    "            Flag = False\n",
    "            return Flag\n",
    "        return Flag\n",
    "isPrime(11)"
   ]
  },
  {
   "cell_type": "markdown",
   "metadata": {},
   "source": [
    "### functions to find thr prime numbers from 1 to n"
   ]
  },
  {
   "cell_type": "code",
   "execution_count": 18,
   "metadata": {},
   "outputs": [
    {
     "data": {
      "text/plain": [
       "6"
      ]
     },
     "execution_count": 18,
     "metadata": {},
     "output_type": "execute_result"
    }
   ],
   "source": [
    "def primeCount(n):\n",
    "    cnt=0\n",
    "    for a in range(n+1):\n",
    "        k=0\n",
    "        for i in range(2,a//2+1):\n",
    "            if a%i==0:\n",
    "                 k=k+1\n",
    "        if(k<=0):\n",
    "            cnt=cnt+1\n",
    "    return cnt\n",
    "primeCount(10)\n",
    "        "
   ]
  },
  {
   "cell_type": "markdown",
   "metadata": {},
   "source": [
    "### individual digit factoral same as sum of digits\n",
    "### examples\n",
    "#### 145 -- yes(5!+4!+1!=145)\n",
    "#### 123 -- n0(3!+2!+1!=9)"
   ]
  },
  {
   "cell_type": "code",
   "execution_count": 5,
   "metadata": {},
   "outputs": [
    {
     "name": "stdout",
     "output_type": "stream",
     "text": [
      "yes\n",
      "no\n"
     ]
    }
   ],
   "source": [
    "def factorial(n):\n",
    "    fact=1\n",
    "    for i in range(2,n+1):\n",
    "        fact*=i\n",
    "    return fact\n",
    "def digitfactsum(n):\n",
    "    sum=0\n",
    "    buffer=n\n",
    "    while n!=0:\n",
    "        r=n%10\n",
    "        sum +=factorial(r)\n",
    "        n=n//10\n",
    "    if sum==buffer:\n",
    "            return \"yes\"\n",
    "    else:\n",
    "            return \"no\"\n",
    "    return\n",
    "print(digitfactsum(145))\n",
    "print(digitfactsum(123))"
   ]
  },
  {
   "cell_type": "markdown",
   "metadata": {},
   "source": [
    "### function to return count of palindrame\n",
    "\n",
    "\n"
   ]
  },
  {
   "cell_type": "code",
   "execution_count": 8,
   "metadata": {},
   "outputs": [
    {
     "data": {
      "text/plain": [
       "9"
      ]
     },
     "execution_count": 8,
     "metadata": {},
     "output_type": "execute_result"
    }
   ],
   "source": [
    "def ispalindrome(n):\n",
    "    rev=0\n",
    "    buffer=n\n",
    "    while n!=0:\n",
    "       r=n%10\n",
    "       rev=rev*10+r\n",
    "       n=n//10\n",
    "    if rev==buffer:\n",
    "        return True\n",
    "    else:\n",
    "        return False\n",
    "def countpalindrome(x,y):\n",
    "    cnt=0\n",
    "    while x!=y:\n",
    "        if ispalindrome(x)==True:\n",
    "            cnt=cnt+1\n",
    "        x=x+1\n",
    "    return cnt\n",
    "countpalindrome(1,10)\n",
    "\n",
    "\n"
   ]
  },
  {
   "cell_type": "code",
   "execution_count": 9,
   "metadata": {},
   "outputs": [
    {
     "data": {
      "text/plain": [
       "4"
      ]
     },
     "execution_count": 9,
     "metadata": {},
     "output_type": "execute_result"
    }
   ],
   "source": [
    "def factorslist(n):\n",
    "    sum=0\n",
    "    for i in range(1,n//2+1):\n",
    "        if n%i ==0:\n",
    "            sum=sum+i\n",
    "    return sum\n",
    "                   \n",
    "factorslist(9)"
   ]
  },
  {
   "cell_type": "code",
   "execution_count": 20,
   "metadata": {},
   "outputs": [
    {
     "name": "stdout",
     "output_type": "stream",
     "text": [
      "p\n",
      "y\n",
      "n\n",
      "o\n",
      "py\n",
      "hon\n",
      "thon\n",
      "ytho\n"
     ]
    }
   ],
   "source": [
    "# python strings\n",
    "s1='python'\n",
    "print(s1[0])\n",
    "print(s1[1])\n",
    "print(s1[len(s1)-1])\n",
    "print(s1[len(s1)-2])\n",
    "print(s1[0:2])#access the first characters\n",
    "print(s1[-3:])#last 3 charaacters\n",
    "print(s1[2:])#from second charater to last\n",
    "print(s1[1:-1])"
   ]
  },
  {
   "cell_type": "code",
   "execution_count": 3,
   "metadata": {},
   "outputs": [
    {
     "name": "stdout",
     "output_type": "stream",
     "text": [
      "Y H N "
     ]
    }
   ],
   "source": [
    "#print captital letters\n",
    "def printUpper(x):\n",
    "    for i in range(len(x)):\n",
    "        if ord(x[i])>=65 and ord(x[i])<=90:\n",
    "            print(x[i],end=\" \")\n",
    "    return\n",
    "printUpper(\"pYtHoN\")"
   ]
  },
  {
   "cell_type": "code",
   "execution_count": 4,
   "metadata": {},
   "outputs": [
    {
     "name": "stdout",
     "output_type": "stream",
     "text": [
      "samecount\n",
      "programming\n"
     ]
    }
   ],
   "source": [
    "def findcount(str):\n",
    "    cntupper=0\n",
    "    cntlower=0\n",
    "    for x in range(len(str)):\n",
    "        if ord(str[x])>=65 and ord(str[x])<=90:\n",
    "            cntupper = cntupper+1\n",
    "        elif ord(str[x])>=97 and ord(str[x])<=122:\n",
    "            cntlower=cntlower+1\n",
    "    if cntupper==cntlower:\n",
    "        return\"samecount\"\n",
    "    else:\n",
    "        return\"programming\"\n",
    "    return\n",
    "print(findcount(\"PyThOn\"))\n",
    "print(findcount(\"PYTHon\"))"
   ]
  },
  {
   "cell_type": "code",
   "execution_count": 5,
   "metadata": {},
   "outputs": [
    {
     "name": "stdout",
     "output_type": "stream",
     "text": [
      "6 4 3 "
     ]
    }
   ],
   "source": [
    "def extractdigits(str):  \n",
    "    for x in range(len(str)):\n",
    "        if ord(str[x])>=48 and ord(str[x])<=57:\n",
    "               print(str[x],end=\" \")\n",
    "    return\n",
    "extractdigits(\"application643\")                    \n"
   ]
  },
  {
   "cell_type": "code",
   "execution_count": 8,
   "metadata": {},
   "outputs": [
    {
     "data": {
      "text/plain": [
       "22"
      ]
     },
     "execution_count": 8,
     "metadata": {},
     "output_type": "execute_result"
    }
   ],
   "source": [
    "#function to return the sum of the digits i a given string\n",
    "def sumofDigits(str):\n",
    "    sum=0\n",
    "    for x in range(len(str)):\n",
    "        if ord(str[x])>=48 and ord(str[x])<=57:\n",
    "            sum=sum+(ord(str[x])-48)\n",
    "    return sum\n",
    "sumofDigits(\"appli5467\")"
   ]
  },
  {
   "cell_type": "code",
   "execution_count": 10,
   "metadata": {},
   "outputs": [
    {
     "name": "stdout",
     "output_type": "stream",
     "text": [
      "PYTHON"
     ]
    }
   ],
   "source": [
    "def worduppercase(s):\n",
    "    spacecnt=0\n",
    "    for x in range(len(s)):\n",
    "        if ord(s[x])==32:\n",
    "            spacecnt +=1\n",
    "        if spacecnt ==1:\n",
    "            if ord(s[x])>=65 and ord(s[x])<=90:\n",
    "                print(s[x],end=\" \")\n",
    "        elif ord(s[x])>=97 and ord(s[x])<=122:\n",
    "               print(chr(ord(s[x])-32),end=\"\")\n",
    "        if spacecnt==2:\n",
    "            break\n",
    "    return\n",
    "worduppercase('python made easy')"
   ]
  },
  {
   "cell_type": "code",
   "execution_count": null,
   "metadata": {},
   "outputs": [],
   "source": []
  }
 ],
 "metadata": {
  "kernelspec": {
   "display_name": "Python 3",
   "language": "python",
   "name": "python3"
  },
  "language_info": {
   "codemirror_mode": {
    "name": "ipython",
    "version": 3
   },
   "file_extension": ".py",
   "mimetype": "text/x-python",
   "name": "python",
   "nbconvert_exporter": "python",
   "pygments_lexer": "ipython3",
   "version": "3.7.3"
  }
 },
 "nbformat": 4,
 "nbformat_minor": 2
}
