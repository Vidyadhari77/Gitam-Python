{
 "cells": [
  {
   "cell_type": "code",
   "execution_count": 5,
   "metadata": {},
   "outputs": [
    {
     "name": "stdout",
     "output_type": "stream",
     "text": [
      "enter a number333\n",
      "333 is palindrome\n"
     ]
    }
   ],
   "source": [
    "a=int(input(\"enter a number\"))\n",
    "rev=0\n",
    "num=a\n",
    "while(a!=0):\n",
    "     r=a%10\n",
    "     rev=rev*10+r\n",
    "     a=a//10\n",
    "if(num==rev):\n",
    "        print(num,\"is palindrome\")\n",
    "else:\n",
    "    print(num,\"is not palindrome\")"
   ]
  },
  {
   "cell_type": "code",
   "execution_count": 3,
   "metadata": {},
   "outputs": [
    {
     "name": "stdout",
     "output_type": "stream",
     "text": [
      "enter the stringgitam\n",
      "ijubo"
     ]
    }
   ],
   "source": [
    "str=input(\"enter the string\")\n",
    "for i in range(len(str)):\n",
    "    if(str[i]=='a' or str[i]=='e' or str[i]=='i' or str[i ]=='o' or str[i]=='u' ):\n",
    "        print(chr(ord(str[i])+1),end=\"\")\n",
    "    elif str[i]>='b' and str[i]<='d':\n",
    "        print(\"e\",end=\"\")\n",
    "    elif str[i]>='f' and str[i]<='h':\n",
    "        print(\"i\",end=\"\")\n",
    "    elif str[i]>='j' and str[i]<='n':\n",
    "        print(\"o\",end=\"\")\n",
    "    elif str[i]>='p' and str[i]<='t':\n",
    "        print('u',end=\"\")\n",
    "    elif str[i]>='v' and str[i]<='z':\n",
    "        print(\"a\",end=\"\")"
   ]
  },
  {
   "cell_type": "code",
   "execution_count": 6,
   "metadata": {},
   "outputs": [
    {
     "name": "stdout",
     "output_type": "stream",
     "text": [
      "enter a number4\n",
      "4 is not perfect number\n"
     ]
    }
   ],
   "source": [
    "n=int(input(\"enter a number\"))\n",
    "sum=0\n",
    "for i in range(1,n):\n",
    "   if(n%i==0):\n",
    "        sum=sum+i\n",
    "if(sum==n):\n",
    "    print(n,\"is perfect number\")\n",
    "else:\n",
    "    print(n,\"is not perfect number\")\n",
    "        "
   ]
  },
  {
   "cell_type": "code",
   "execution_count": null,
   "metadata": {},
   "outputs": [],
   "source": []
  }
 ],
 "metadata": {
  "kernelspec": {
   "display_name": "Python 3",
   "language": "python",
   "name": "python3"
  }
 },
 "nbformat": 4,
 "nbformat_minor": 2
}
