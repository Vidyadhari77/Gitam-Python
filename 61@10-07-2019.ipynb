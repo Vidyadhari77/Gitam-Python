{
 "cells": [
  {
   "cell_type": "code",
   "execution_count": 1,
   "metadata": {},
   "outputs": [
    {
     "name": "stdout",
     "output_type": "stream",
     "text": [
      "8 4 6 "
     ]
    }
   ],
   "source": [
    "### print even numbers\n",
    "li=[1,8,7,4,6]\n",
    "def iseven(li):\n",
    "    for x in range(len(li)):\n",
    "        while li[x]%2==0:\n",
    "            print(li[x],end=\" \")\n",
    "            break\n",
    "    return\n",
    "iseven(li)"
   ]
  },
  {
   "cell_type": "code",
   "execution_count": null,
   "metadata": {},
   "outputs": [],
   "source": []
  },
  {
   "cell_type": "code",
   "execution_count": null,
   "metadata": {},
   "outputs": [],
   "source": []
  },
  {
   "cell_type": "markdown",
   "metadata": {},
   "source": [
    "### print square of the even numbers"
   ]
  },
  {
   "cell_type": "code",
   "execution_count": 10,
   "metadata": {},
   "outputs": [
    {
     "name": "stdout",
     "output_type": "stream",
     "text": [
      "1 4 3 16 5 36 "
     ]
    }
   ],
   "source": [
    "li=[1,2,3,4,5,6]\n",
    "def square(li):\n",
    "    for x in range(len(li)):\n",
    "        if li[x]%2==0:\n",
    "            print(li[x]**2,end=\" \")\n",
    "        else:\n",
    "                print(li[x],end=\" \")\n",
    "    return\n",
    "square(li)"
   ]
  },
  {
   "cell_type": "code",
   "execution_count": 15,
   "metadata": {},
   "outputs": [
    {
     "name": "stdout",
     "output_type": "stream",
     "text": [
      "1 3 5 7 9 6 "
     ]
    }
   ],
   "source": [
    "i=[15,19,12,16,4]\n",
    "def addprevious(li):\n",
    "    for x in range(len(li)):\n",
    "        if x==0 or x==len(li)-1:\n",
    "            print(li[x],end=\" \")\n",
    "        else:\n",
    "            print(li[x-1]+li[x],end=\" \")\n",
    "    return \n",
    "addprevious(li)"
   ]
  },
  {
   "cell_type": "code",
   "execution_count": 19,
   "metadata": {},
   "outputs": [
    {
     "name": "stdout",
     "output_type": "stream",
     "text": [
      "{'name': 'gitam', 'email': 'email@gmail.com'}\n"
     ]
    }
   ],
   "source": [
    "d1={\"name\":\"gitam\",\"email\":\"email@gmail.com\"}\n",
    "print(d1)"
   ]
  },
  {
   "cell_type": "markdown",
   "metadata": {},
   "source": [
    "## ADD CONTACT"
   ]
  },
  {
   "cell_type": "code",
   "execution_count": 23,
   "metadata": {},
   "outputs": [
    {
     "name": "stdout",
     "output_type": "stream",
     "text": [
      "contact  details are added\n",
      "contact  details are added\n",
      "contact details are already exists\n"
     ]
    }
   ],
   "source": [
    "# Add contact\n",
    "contacts = {} # creating a dict object\n",
    "def addcontact(name,phone):\n",
    "    if name not in contacts:\n",
    "        contacts[name] = phone\n",
    "        print(\"contact  details are added\")\n",
    "    else:\n",
    "        print(\"contact details are already exists\")\n",
    "    return\n",
    "addcontact('Anil','9876543210')\n",
    "addcontact('Naveen','9876543211')\n",
    "addcontact('Anil','9876543212')\n"
   ]
  },
  {
   "cell_type": "markdown",
   "metadata": {},
   "source": [
    "## search for contact details"
   ]
  },
  {
   "cell_type": "code",
   "execution_count": 31,
   "metadata": {},
   "outputs": [
    {
     "name": "stdout",
     "output_type": "stream",
     "text": [
      "Anil : 9876543210\n",
      "Vidhu does not exist\n",
      "Naveen : 9876543211\n"
     ]
    }
   ],
   "source": [
    "def searchcontact(name):\n",
    "    if name in contacts:\n",
    "        print(name,\":\",contacts[name])\n",
    "    else:\n",
    "        print(\"%s does not exist\"%name)\n",
    "    return\n",
    "searchcontact('Anil')\n",
    "searchcontact('Vidhu')\n",
    "searchcontact('Naveen')"
   ]
  },
  {
   "cell_type": "markdown",
   "metadata": {},
   "source": [
    "## import some contacts\n",
    "### merge contact with the existing one"
   ]
  },
  {
   "cell_type": "code",
   "execution_count": 35,
   "metadata": {},
   "outputs": [
    {
     "name": "stdout",
     "output_type": "stream",
     "text": [
      "2 contacts added successfully\n"
     ]
    }
   ],
   "source": [
    "def importcontact(newcontacts):\n",
    "    contacts.update(newcontacts)\n",
    "    print(len(newcontacts.keys()),\"contacts added successfully\")\n",
    "    return\n",
    "newcontacts = {'vidya':658756845,'bhanu':9876776247}\n",
    "importcontact(newcontacts)"
   ]
  },
  {
   "cell_type": "code",
   "execution_count": 37,
   "metadata": {},
   "outputs": [
    {
     "data": {
      "text/plain": [
       "{'vidya': 658756845, 'bhanu': 9876776247}"
      ]
     },
     "execution_count": 37,
     "metadata": {},
     "output_type": "execute_result"
    }
   ],
   "source": [
    "newcontacts"
   ]
  },
  {
   "cell_type": "markdown",
   "metadata": {},
   "source": [
    "## delete a contact"
   ]
  },
  {
   "cell_type": "code",
   "execution_count": 42,
   "metadata": {},
   "outputs": [
    {
     "name": "stdout",
     "output_type": "stream",
     "text": [
      "Anil deleted successfully\n"
     ]
    }
   ],
   "source": [
    "def deletecontact(name):\n",
    "    if name in contacts:\n",
    "        del contacts[name]\n",
    "        print(name,\"deleted successfully\")\n",
    "    else:\n",
    "         print(\"name does not eXist\")\n",
    "    return\n",
    "deletecontact('Anil')"
   ]
  },
  {
   "cell_type": "markdown",
   "metadata": {},
   "source": [
    "## UPDATE CONTACT DETAILS"
   ]
  },
  {
   "cell_type": "code",
   "execution_count": 43,
   "metadata": {},
   "outputs": [
    {
     "name": "stdout",
     "output_type": "stream",
     "text": [
      "contact is details are added\n",
      "contact details are already exists\n",
      "contact details are already exists\n"
     ]
    }
   ],
   "source": [
    "\n",
    "def addcontact(name,phone):\n",
    "    if name not in contacts:\n",
    "        contacts[name] = phone\n",
    "        print(\"contact is details are added\")\n",
    "    else:\n",
    "        print(\"contact details are already exists\")\n",
    "    return\n",
    "addcontact('Anil','9876543210')\n",
    "addcontact('Naveen','9876543211')\n",
    "addcontact('Anil','9876543212')\n",
    "\n",
    "\n",
    "\n",
    "\n"
   ]
  },
  {
   "cell_type": "code",
   "execution_count": 1,
   "metadata": {},
   "outputs": [
    {
     "name": "stdout",
     "output_type": "stream",
     "text": [
      "python programming\n"
     ]
    }
   ],
   "source": [
    "# classical version \n",
    "li = [\"python\",\"programming\"]\n",
    "print(\"%s %s\" % (li[0],li[1]))"
   ]
  },
  {
   "cell_type": "code",
   "execution_count": 2,
   "metadata": {},
   "outputs": [
    {
     "name": "stdout",
     "output_type": "stream",
     "text": [
      "python programming\n"
     ]
    }
   ],
   "source": [
    "print(\"{0} {1}\".format(li[0],li[1]))"
   ]
  },
  {
   "cell_type": "code",
   "execution_count": 3,
   "metadata": {},
   "outputs": [
    {
     "name": "stdout",
     "output_type": "stream",
     "text": [
      " 1 2 3 4 \n"
     ]
    }
   ],
   "source": [
    "li1 = [1,2,3,4]\n",
    "print(\" %d %d %d %d \" % (li1[0],li1[1],li1[2],li1[3]))"
   ]
  },
  {
   "cell_type": "markdown",
   "metadata": {},
   "source": [
    "### string functions\n",
    "- upper() -- will converts the given string into upper case\n",
    "- lower() -- will converts the given string into l\n"
   ]
  },
  {
   "cell_type": "code",
   "execution_count": 8,
   "metadata": {},
   "outputs": [
    {
     "name": "stdout",
     "output_type": "stream",
     "text": [
      "gitam\n",
      "GITAM\n"
     ]
    }
   ],
   "source": [
    "s1='gitam'\n",
    "print(s1.lower())\n",
    "print(s1.upper())"
   ]
  },
  {
   "cell_type": "markdown",
   "metadata": {},
   "source": [
    "## BOOLEAN FUNCTION(TRUE AND FALSE)\n",
    "   - islower()-true if string is lower case\n",
    "   - isupper()-true if string is in upper case\n",
    "   - isnumeric()-true if string contains only numbers\n",
    "   - istitle()-true if string follows the titlt case\n",
    "   - isalpha()-true if th string has alphabets\n",
    "   - isspace()-true if string contains space"
   ]
  },
  {
   "cell_type": "code",
   "execution_count": 7,
   "metadata": {},
   "outputs": [
    {
     "name": "stdout",
     "output_type": "stream",
     "text": [
      "True\n",
      "False\n"
     ]
    }
   ],
   "source": [
    "s1='gitam'\n",
    "print(s1.islower())\n",
    "print(s1.isupper())"
   ]
  },
  {
   "cell_type": "code",
   "execution_count": 9,
   "metadata": {},
   "outputs": [
    {
     "name": "stdout",
     "output_type": "stream",
     "text": [
      "False\n",
      "True\n"
     ]
    }
   ],
   "source": [
    "s2=\"application643\"\n",
    "s3=\"PythonProgramming\"\n",
    "print(s2.isalpha())\n",
    "print(s3.isalpha())\n"
   ]
  },
  {
   "cell_type": "code",
   "execution_count": 10,
   "metadata": {},
   "outputs": [
    {
     "name": "stdout",
     "output_type": "stream",
     "text": [
      "False\n",
      "True\n"
     ]
    }
   ],
   "source": [
    "s2=\"python programming\"\n",
    "s3=\"Python Programming\"\n",
    "print(s2.istitle())\n",
    "print(s3.istitle())"
   ]
  },
  {
   "cell_type": "code",
   "execution_count": 11,
   "metadata": {},
   "outputs": [
    {
     "name": "stdout",
     "output_type": "stream",
     "text": [
      "False\n",
      "True\n"
     ]
    }
   ],
   "source": [
    "s2=\"applications\"\n",
    "s3=\"643\"\n",
    "print(s2.isnumeric())\n",
    "print(s3.isnumeric())\n"
   ]
  },
  {
   "cell_type": "code",
   "execution_count": 12,
   "metadata": {},
   "outputs": [
    {
     "name": "stdout",
     "output_type": "stream",
     "text": [
      "True\n",
      "False\n"
     ]
    }
   ],
   "source": [
    "s1 = \" \"\n",
    "s2 = \"py th on\"\n",
    "print(s1.isspace())\n",
    "print(s2.isspace())\n"
   ]
  },
  {
   "cell_type": "markdown",
   "metadata": {},
   "source": [
    "## STRING METHODS\n",
    "   - join()-method will combine two strings"
   ]
  },
  {
   "cell_type": "code",
   "execution_count": 13,
   "metadata": {},
   "outputs": [
    {
     "name": "stdout",
     "output_type": "stream",
     "text": [
      "p y t h o n\n"
     ]
    }
   ],
   "source": [
    "s1='python'\n",
    "print(\" \".join(s1))"
   ]
  },
  {
   "cell_type": "code",
   "execution_count": 14,
   "metadata": {},
   "outputs": [
    {
     "name": "stdout",
     "output_type": "stream",
     "text": [
      "p,y,t,h,o,n, ,i,s, ,d,i,r,t,y, ,t,o, ,l,e,a,r,n\n"
     ]
    }
   ],
   "source": [
    "s2=\"python is dirty to learn\"\n",
    "print(\",\".join(s2))"
   ]
  },
  {
   "cell_type": "code",
   "execution_count": 16,
   "metadata": {},
   "outputs": [
    {
     "name": "stdout",
     "output_type": "stream",
     "text": [
      "['python', 'is', 'dirty', 'to', 'learn']\n"
     ]
    }
   ],
   "source": [
    "s2=\"python is dirty to learn\"\n",
    "print(s2.split())"
   ]
  },
  {
   "cell_type": "code",
   "execution_count": 17,
   "metadata": {},
   "outputs": [
    {
     "name": "stdout",
     "output_type": "stream",
     "text": [
      "['python', 'programming', 'easy', 'to', 'learn']\n"
     ]
    }
   ],
   "source": [
    "s2 = \"python programming easy to learn\"\n",
    "print(s2.split())"
   ]
  },
  {
   "cell_type": "code",
   "execution_count": 18,
   "metadata": {},
   "outputs": [
    {
     "name": "stdout",
     "output_type": "stream",
     "text": [
      "['python progr', 'mming e', 'sy to le', 'rn']\n"
     ]
    }
   ],
   "source": [
    "s2 = 'python programming easy to learn'\n",
    "print(s2.split('a'))\n"
   ]
  },
  {
   "cell_type": "code",
   "execution_count": 19,
   "metadata": {},
   "outputs": [
    {
     "name": "stdout",
     "output_type": "stream",
     "text": [
      "['p', 'y', 't', 'h', 'o', 'n', ' ', 'p', 'r', 'o', 'g', 'r', 'a', 'm', 'm', 'i', 'n', 'g', ' ', 'e', 'a', 's', 'y', ' ', 't', 'o', ' ', 'l', 'e', 'a', 'r', 'n']\n"
     ]
    }
   ],
   "source": [
    "li=\"python programming easy to learn\"\n",
    "s1=list(li)\n",
    "print(s1)"
   ]
  },
  {
   "cell_type": "code",
   "execution_count": 20,
   "metadata": {},
   "outputs": [
    {
     "name": "stdout",
     "output_type": "stream",
     "text": [
      "['python', 'programming', 'easy', 'to', 'learn']\n",
      "5\n"
     ]
    }
   ],
   "source": [
    "s2 = 'python programming easy to learn'\n",
    "li = s2.split() # split the string -- list object\n",
    "print(li)\n",
    "print(len(li))\n"
   ]
  },
  {
   "cell_type": "markdown",
   "metadata": {},
   "source": [
    "## packages and modules\n",
    "   - packages\n",
    "   - A collection of modules(single python file .py) and subpackages\n",
    "### Module\n",
    "    - A single python file containing set fuctions packages ->sub packages -> Modules->functions ->statements"
   ]
  },
  {
   "cell_type": "code",
   "execution_count": 21,
   "metadata": {},
   "outputs": [
    {
     "data": {
      "text/plain": [
       "13"
      ]
     },
     "execution_count": 21,
     "metadata": {},
     "output_type": "execute_result"
    }
   ],
   "source": [
    "#importing the external packages to the python file\n",
    "import math\n",
    "math.floor(13.45)"
   ]
  },
  {
   "cell_type": "code",
   "execution_count": 22,
   "metadata": {},
   "outputs": [
    {
     "data": {
      "text/plain": [
       "720"
      ]
     },
     "execution_count": 22,
     "metadata": {},
     "output_type": "execute_result"
    }
   ],
   "source": [
    "from math import factorial as fact\n",
    "fact(6)"
   ]
  },
  {
   "cell_type": "code",
   "execution_count": 23,
   "metadata": {},
   "outputs": [
    {
     "name": "stdout",
     "output_type": "stream",
     "text": [
      "15 9 70 28 39 84 44 60 41 70 "
     ]
    }
   ],
   "source": [
    "# function to generate N numbers in given range \n",
    "import random\n",
    "def randomnumbers(n,lb,ub):\n",
    "    for i in range(0,n):\n",
    "         print(random.randint(lb,ub),end=\" \")\n",
    "    return\n",
    "randomnumbers(10,0,100)\n"
   ]
  },
  {
   "cell_type": "code",
   "execution_count": null,
   "metadata": {},
   "outputs": [],
   "source": []
  }
 ],
 "metadata": {
  "kernelspec": {
   "display_name": "Python 3",
   "language": "python",
   "name": "python3"
  },
  "language_info": {
   "codemirror_mode": {
    "name": "ipython",
    "version": 3
   },
   "file_extension": ".py",
   "mimetype": "text/x-python",
   "name": "python",
   "nbconvert_exporter": "python",
   "pygments_lexer": "ipython3",
   "version": "3.7.3"
  }
 },
 "nbformat": 4,
 "nbformat_minor": 2
}
